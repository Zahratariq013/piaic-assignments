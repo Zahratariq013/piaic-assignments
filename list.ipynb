{
 "cells": [
  {
   "cell_type": "markdown",
   "metadata": {},
   "source": [
    "Question 1\n"
   ]
  },
  {
   "cell_type": "code",
   "execution_count": 1,
   "metadata": {},
   "outputs": [
    {
     "name": "stdout",
     "output_type": "stream",
     "text": [
      "shahzaib\n",
      "abdullah\n",
      "usama\n",
      "hussnain\n"
     ]
    }
   ],
   "source": [
    "name:list[str]=['shahzaib', 'abdullah', 'usama', 'hussnain']\n",
    "print(name[0])\n",
    "print(name[1])\n",
    "print(name[2])\n",
    "print(name[3])"
   ]
  },
  {
   "cell_type": "markdown",
   "metadata": {},
   "source": [
    "Question 2"
   ]
  },
  {
   "cell_type": "code",
   "execution_count": 4,
   "metadata": {},
   "outputs": [
    {
     "name": "stdout",
     "output_type": "stream",
     "text": [
      "maira name shahzaib hai\n",
      "maira name abdullah hai\n",
      "maira name usama hai\n",
      "maira name hussnain hai\n"
     ]
    }
   ],
   "source": [
    "name:list[str]=['shahzaib', 'abdullah', 'usama', 'hussnain']\n",
    "for names in name:\n",
    " print(f\"maira name {names} hai\")\n",
    " "
   ]
  },
  {
   "cell_type": "markdown",
   "metadata": {},
   "source": [
    "Question 3"
   ]
  },
  {
   "cell_type": "code",
   "execution_count": 4,
   "metadata": {},
   "outputs": [
    {
     "name": "stdout",
     "output_type": "stream",
     "text": [
      "I would like to own a Corolla\n",
      "I would like to own a Elantra\n",
      "I would like to own a Honda Civic\n",
      "I would like to own a Honda City\n"
     ]
    }
   ],
   "source": [
    "cars:list[str]=['Corolla','Elantra','Honda Civic','Honda City']\n",
    "for car in cars:\n",
    " print(f\"I would like to own a {car}\")"
   ]
  },
  {
   "cell_type": "markdown",
   "metadata": {},
   "source": [
    "Question 4"
   ]
  },
  {
   "cell_type": "code",
   "execution_count": 5,
   "metadata": {},
   "outputs": [
    {
     "name": "stdout",
     "output_type": "stream",
     "text": [
      "Dear shahzaib please come my home and taste my food\n",
      "Dear abdullah please come my home and taste my food\n",
      "Dear usama please come my home and taste my food\n",
      "Dear hussnain please come my home and taste my food\n"
     ]
    }
   ],
   "source": [
    "\n",
    "guest:list[str]=['shahzaib', 'abdullah', 'usama', 'hussnain']\n",
    "for guests in guest:\n",
    " print(f\"Dear {guests} please come my home and taste my food\")"
   ]
  },
  {
   "cell_type": "markdown",
   "metadata": {},
   "source": [
    "Question 5"
   ]
  },
  {
   "cell_type": "code",
   "execution_count": 6,
   "metadata": {},
   "outputs": [
    {
     "name": "stdout",
     "output_type": "stream",
     "text": [
      "shahzaib i invited you tonight dinner\n",
      "abdullah i invited you tonight dinner\n",
      "usama i invited you tonight dinner\n",
      "hussnain i invited you tonight dinner\n",
      "\n",
      "after new member:\n",
      "me i dont invite you today this reason maina tumha thuda maraa dinner sai\n",
      "['shahzaib', 'abdullah', 'ibrahm', 'hussnain']\n",
      "shahzaib i invited you tonight dinner\n",
      "abdullah i invited you tonight dinner\n",
      "ibrahm i invited you tonight dinner\n",
      "hussnain i invited you tonight dinner\n"
     ]
    }
   ],
   "source": [
    "guest:list[str]=['shahzaib', 'abdullah', 'usama', 'hussnain']\n",
    "message=\"i invited you tonight dinner\"\n",
    "for guest1 in guest:\n",
    "    print(f\"{guest1} {message}\")\n",
    "print(\"\\nafter new member:\")\n",
    "guest[2] =\"ibrahm\"\n",
    "print(\"me i dont invite you today this reason maina tumha thuda maraa dinner sai\")\n",
    "print(guest)\n",
    "\n",
    "for guest1 in guest:\n",
    "    print(f\"{guest1} {message}\")"
   ]
  },
  {
   "cell_type": "markdown",
   "metadata": {},
   "source": [
    "Question 6"
   ]
  },
  {
   "cell_type": "code",
   "execution_count": 7,
   "metadata": {},
   "outputs": [
    {
     "name": "stdout",
     "output_type": "stream",
     "text": [
      "['shahzaib', 'abdullah', 'usama', 'hussnain']\n",
      "['Saif', 'shahzaib', 'abdullah', 'usama', 'hussnain']\n",
      "['Saif', 'shahzaib', 'Abdullah', 'abdullah', 'usama', 'hussnain']\n",
      "['Saif', 'shahzaib', 'Abdullah', 'abdullah', 'usama', 'hussnain', 'Ali']\n",
      "Saif i invite you tonight dinner\n",
      "shahzaib i invite you tonight dinner\n",
      "Abdullah i invite you tonight dinner\n",
      "abdullah i invite you tonight dinner\n",
      "usama i invite you tonight dinner\n",
      "hussnain i invite you tonight dinner\n",
      "Ali i invite you tonight dinner\n"
     ]
    }
   ],
   "source": [
    "guest:list[str]=['shahzaib', 'abdullah', 'usama', 'hussnain']\n",
    "print(guest)\n",
    "\n",
    "guest.insert(0,\"Saif\")\n",
    "\n",
    "print(guest)\n",
    "\n",
    "guest.insert(2,\"Abdullah\")\n",
    "\n",
    "print(guest)\n",
    "\n",
    "guest.append(\"Ali\")\n",
    "\n",
    "print(guest)\n",
    "\n",
    "for guest1 in guest:\n",
    "\n",
    " print(f\"{guest1} i invite you tonight dinner\")"
   ]
  },
  {
   "cell_type": "markdown",
   "metadata": {},
   "source": [
    "Question 7"
   ]
  },
  {
   "cell_type": "code",
   "execution_count": 9,
   "metadata": {},
   "outputs": [
    {
     "name": "stdout",
     "output_type": "stream",
     "text": [
      "['shahzaib', 'abdullah', 'usama', 'hussnain', 'boss']\n",
      "I can invite only two people of the dinner\n",
      "sorry ('boss', 'hussnain', 'usama') i can not invited them into the dinner\n",
      "['shahzaib', 'abdullah'] they still invited\n",
      "[] they have an empty list at the end of your program\n"
     ]
    }
   ],
   "source": [
    "guest:list[str]=['shahzaib', 'abdullah', 'usama', 'hussnain','boss']\n",
    "\n",
    "print(guest)\n",
    "\n",
    "print(\"I can invite only two people of the dinner\")\n",
    "\n",
    "guest1 = guest.pop()\n",
    "guest2 = guest.pop()\n",
    "guest3 = guest.pop()\n",
    "\n",
    "\n",
    "print(f\"sorry {guest1,guest2,guest3} i can not invited them into the dinner\")\n",
    "\n",
    "print(f\"{guest} they still invited\")\n",
    "\n",
    "del guest[0]\n",
    "del guest[0]\n",
    "\n",
    "print(f\"{guest} they have an empty list at the end of your program\")\n",
    "\n"
   ]
  },
  {
   "cell_type": "markdown",
   "metadata": {},
   "source": [
    "Question 8"
   ]
  },
  {
   "cell_type": "code",
   "execution_count": 10,
   "metadata": {},
   "outputs": [
    {
     "name": "stdout",
     "output_type": "stream",
     "text": [
      "Original list :\n",
      "['lahore', 'karachi', 'multan', 'brooklyne', 'newyork']\n",
      "By using sorted method :\n",
      "['brooklyne', 'karachi', 'lahore', 'multan', 'newyork']\n",
      "By using reverse sorted method\n",
      "['newyork', 'multan', 'lahore', 'karachi', 'brooklyne']\n",
      "list is still in its original order :\n",
      "['lahore', 'karachi', 'multan', 'brooklyne', 'newyork']\n",
      "using reverse method :\n",
      "['newyork', 'brooklyne', 'multan', 'karachi', 'lahore']\n",
      "using reverse method again :\n",
      "['lahore', 'karachi', 'multan', 'brooklyne', 'newyork']\n",
      "original list print again:\n",
      "['lahore', 'karachi', 'multan', 'brooklyne', 'newyork']\n",
      "sorted list : \n",
      "['brooklyne', 'karachi', 'lahore', 'multan', 'newyork']\n"
     ]
    }
   ],
   "source": [
    "places:list[str]=['lahore','karachi','multan','brooklyne','newyork']\n",
    "print(\"Original list :\")\n",
    "print(places)\n",
    "print(\"By using sorted method :\")\n",
    "print(sorted(places))\n",
    "print(\"By using reverse sorted method\")\n",
    "print(sorted(places ,reverse=True))\n",
    "print(\"list is still in its original order :\")\n",
    "print(places)\n",
    "print(\"using reverse method :\")\n",
    "places.reverse()\n",
    "print(places)\n",
    "print(\"using reverse method again :\")\n",
    "places.reverse()\n",
    "print(places)\n",
    "print(\"original list print again:\")\n",
    "print(places)\n",
    "print(\"sorted list : \")\n",
    "print(sorted(places))"
   ]
  },
  {
   "cell_type": "markdown",
   "metadata": {},
   "source": [
    "Question 9"
   ]
  },
  {
   "cell_type": "code",
   "execution_count": 10,
   "metadata": {},
   "outputs": [
    {
     "name": "stdout",
     "output_type": "stream",
     "text": [
      "Original list :\n",
      "['lahore', 'karachi', 'multan', 'akbar chonk', 'bdami bagh', 'multan', 'sahiwal', 'azaad kashmir', 'jamo kashmir']\n",
      "1 sorted method :\n",
      "['akbar chonk', 'azaad kashmir', 'bdami bagh', 'jamo kashmir', 'karachi', 'lahore', 'multan', 'multan', 'sahiwal']\n",
      "2 reverse sorted method\n",
      "['sahiwal', 'multan', 'multan', 'lahore', 'karachi', 'jamo kashmir', 'bdami bagh', 'azaad kashmir', 'akbar chonk']\n",
      "3 reverse method :\n",
      "['jamo kashmir', 'azaad kashmir', 'sahiwal', 'multan', 'bdami bagh', 'akbar chonk', 'multan', 'karachi', 'lahore']\n",
      "4 appened method\n",
      "['jamo kashmir', 'azaad kashmir', 'sahiwal', 'multan', 'bdami bagh', 'akbar chonk', 'multan', 'karachi', 'lahore', 'jallo moor']\n",
      "5 insert method\n",
      "['jamo kashmir', 'Daroghawala', 'azaad kashmir', 'sahiwal', 'multan', 'bdami bagh', 'akbar chonk', 'multan', 'karachi', 'lahore', 'jallo moor']\n",
      "6 pop method\n",
      "['jamo kashmir', 'Daroghawala', 'azaad kashmir', 'sahiwal', 'multan', 'bdami bagh', 'akbar chonk', 'multan', 'karachi', 'lahore']\n",
      "7 pop method with indexing\n",
      "['jamo kashmir', 'Daroghawala', 'azaad kashmir', 'sahiwal', 'bdami bagh', 'akbar chonk', 'multan', 'karachi', 'lahore']\n",
      "8 remove method\n",
      "['jamo kashmir', 'azaad kashmir', 'sahiwal', 'bdami bagh', 'akbar chonk', 'multan', 'karachi', 'lahore']\n",
      "9 del method\n",
      "['jamo kashmir', 'azaad kashmir', 'bdami bagh', 'akbar chonk', 'multan', 'karachi', 'lahore']\n",
      "10 count method\n",
      "['jamo kashmir', 'azaad kashmir', 'bdami bagh', 'akbar chonk', 'multan', 'karachi', 'lahore']\n",
      "11 index method\n",
      "['jamo kashmir', 'azaad kashmir', 'bdami bagh', 'akbar chonk', 'multan', 'karachi', 'lahore']\n",
      "12 copy method\n",
      "['jamo kashmir', 'azaad kashmir', 'bdami bagh', 'akbar chonk', 'multan', 'karachi', 'lahore']\n",
      "13 clear method\n",
      "[]\n",
      "extend method\n",
      "['america', 'china', 'russia', 'ireland']\n"
     ]
    }
   ],
   "source": [
    "cities:list[str]=['lahore','karachi','multan','akbar chonk','bdami bagh','multan','sahiwal','azaad kashmir','jamo kashmir']\n",
    "cities1:list[str]=['america','china','russia','ireland']\n",
    "print(\"Original list :\")\n",
    "print(cities)\n",
    "print(\"1 sorted method :\")\n",
    "print(sorted(cities))\n",
    "print(\"2 reverse sorted method\")\n",
    "print(sorted(cities ,reverse=True))\n",
    "print(\"3 reverse method :\")\n",
    "cities.reverse()\n",
    "print(cities)\n",
    "print(\"4 appened method\")\n",
    "cities.append(\"jallo moor\")\n",
    "print(cities)\n",
    "print(\"5 insert method\")\n",
    "cities.insert(1,\"Daroghawala\")\n",
    "print(cities)\n",
    "print(\"6 pop method\")\n",
    "cities.pop()\n",
    "print(cities)\n",
    "print(\"7 pop method with indexing\")\n",
    "cities.pop(4)\n",
    "print(cities)\n",
    "print(\"8 remove method\")\n",
    "cities.remove(\"Daroghawala\")\n",
    "print(cities)\n",
    "print(\"9 del method\")\n",
    "del cities[2]\n",
    "print(cities)\n",
    "print(\"10 count method\")\n",
    "cities.count(3)\n",
    "print(cities)\n",
    "print(\"11 index method\")\n",
    "cities.index(\"multan\")\n",
    "print(cities)\n",
    "print(\"12 copy method\")\n",
    "cities.copy()\n",
    "print(cities)\n",
    "print(\"13 clear method\")\n",
    "cities.clear()\n",
    "print(cities)\n",
    "print(\"extend method\")\n",
    "cities.extend(cities1)\n",
    "print(cities)\n"
   ]
  },
  {
   "cell_type": "markdown",
   "metadata": {},
   "source": [
    "Question 10"
   ]
  },
  {
   "cell_type": "code",
   "execution_count": 23,
   "metadata": {},
   "outputs": [
    {
     "ename": "IndexError",
     "evalue": "list index out of range",
     "output_type": "error",
     "traceback": [
      "\u001b[1;31m---------------------------------------------------------------------------\u001b[0m",
      "\u001b[1;31mIndexError\u001b[0m                                Traceback (most recent call last)",
      "Cell \u001b[1;32mIn[23], line 3\u001b[0m\n\u001b[0;32m      1\u001b[0m city:\u001b[38;5;28mlist\u001b[39m[\u001b[38;5;28mstr\u001b[39m]\u001b[38;5;241m=\u001b[39m[\u001b[38;5;124m'\u001b[39m\u001b[38;5;124mlahore\u001b[39m\u001b[38;5;124m'\u001b[39m,\u001b[38;5;124m'\u001b[39m\u001b[38;5;124msahiwal\u001b[39m\u001b[38;5;124m'\u001b[39m,\u001b[38;5;124m'\u001b[39m\u001b[38;5;124mbadami bagh\u001b[39m\u001b[38;5;124m'\u001b[39m,\u001b[38;5;124m'\u001b[39m\u001b[38;5;124mjallo moor\u001b[39m\u001b[38;5;124m'\u001b[39m]\n\u001b[1;32m----> 3\u001b[0m \u001b[38;5;28mprint\u001b[39m(\u001b[43mcity\u001b[49m\u001b[43m[\u001b[49m\u001b[38;5;241;43m4\u001b[39;49m\u001b[43m]\u001b[49m)\n",
      "\u001b[1;31mIndexError\u001b[0m: list index out of range"
     ]
    }
   ],
   "source": [
    "city:list[str]=['lahore','sahiwal','badami bagh','jallo moor']\n",
    "\n",
    "print(city[4])\n"
   ]
  }
 ],
 "metadata": {
  "kernelspec": {
   "display_name": "Python 3",
   "language": "python",
   "name": "python3"
  },
  "language_info": {
   "codemirror_mode": {
    "name": "ipython",
    "version": 3
   },
   "file_extension": ".py",
   "mimetype": "text/x-python",
   "name": "python",
   "nbconvert_exporter": "python",
   "pygments_lexer": "ipython3",
   "version": "3.12.4"
  }
 },
 "nbformat": 4,
 "nbformat_minor": 2
}
